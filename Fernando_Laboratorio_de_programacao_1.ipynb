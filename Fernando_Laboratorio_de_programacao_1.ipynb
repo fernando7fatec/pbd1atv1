{
  "nbformat": 4,
  "nbformat_minor": 0,
  "metadata": {
    "colab": {
      "provenance": [],
      "authorship_tag": "ABX9TyNxbl/x28H0SfdpXYtp2lmK",
      "include_colab_link": true
    },
    "kernelspec": {
      "name": "python3",
      "display_name": "Python 3"
    },
    "language_info": {
      "name": "python"
    }
  },
  "cells": [
    {
      "cell_type": "markdown",
      "metadata": {
        "id": "view-in-github",
        "colab_type": "text"
      },
      "source": [
        "<a href=\"https://colab.research.google.com/github/fernando7fatec/pbd1atv1/blob/main/Fernando_Laboratorio_de_programacao_1.ipynb\" target=\"_parent\"><img src=\"https://colab.research.google.com/assets/colab-badge.svg\" alt=\"Open In Colab\"/></a>"
      ]
    },
    {
      "cell_type": "markdown",
      "source": [
        "# Laboratório de Programação 1 - Prof. Jobel\n",
        "---\n",
        "**Aula 2 - 5/9/2024**\n",
        "- Conceito de algorítimos\n",
        "  - Sempre haverá pelo menos 1 entrada e 1 saída\n",
        "  - será finito\n",
        "  - terá uma sequência de passos à serem seguidos.\n",
        "- Eficiência, eficácia, robustez (fatores importantes!)\n",
        "- Manter o código claro (clean code) e eficiente\n",
        "- Conceitos de Python\n",
        "  - tipos de variáveis (int,float,str,bool)\n",
        "  - operadores matemáticos\n",
        "    - operadores matemáticos\n",
        "    - operadores relacionais\n",
        "    - operadores lógicos\n",
        "      - Tabela verdade.\n",
        "  - identação faz parte da linguagem,\n",
        "    como ordem de execução.\n",
        "  - são boas práticas em programação:\n",
        "    - buscar usar primeiro as bibliotecas nativas da linguagem.\n",
        "    - documentar o código com comentários\n",
        "    - declarar as variáveis de forma que fiquem simples e auto explicativas. nome é melhor que n..."
      ],
      "metadata": {
        "id": "8i00PEh_i7UI"
      }
    },
    {
      "cell_type": "code",
      "execution_count": null,
      "metadata": {
        "colab": {
          "base_uri": "https://localhost:8080/"
        },
        "id": "QgJgo-qggXCW",
        "outputId": "ae6115fe-3000-4b88-81fc-69fb943081f3"
      },
      "outputs": [
        {
          "output_type": "stream",
          "name": "stdout",
          "text": [
            "Digite um número inteiro positivo : -1\n",
            " houve algum tipo de erro !\n"
          ]
        }
      ],
      "source": [
        "## BEGIN - AULA 2\n",
        "\n",
        "# Programa que checa se o número é par ou impar\n",
        "# Fernando R\n",
        "# 05/09/2024 - versão 0\n",
        "\n",
        "# Etapa 1 - entrada de dados\n",
        "dividendo = int(input(('Digite um número inteiro positivo : ')))\n",
        "\n",
        "# Etapa 2 - Processamento de dados\n",
        "divisor = 2\n",
        "quociente = int(dividendo/divisor)\n",
        "resto = dividendo-(divisor*quociente)\n",
        "\n",
        "# Etapa 3 - saída de dados\n",
        "if resto == 0:\n",
        "  print('o número é PAR ')\n",
        "elif resto == 1:\n",
        "  print(' o numero é IMPAR ')\n",
        "else:\n",
        "  print(' houve algum tipo de erro !')\n",
        "\n",
        "## END - AULA 2"
      ]
    },
    {
      "cell_type": "markdown",
      "source": [
        "\n",
        "\n"
      ],
      "metadata": {
        "id": "aAuvREH3pDln"
      }
    },
    {
      "cell_type": "code",
      "source": [
        "## BEGIN - AULA 2\n",
        "\n",
        "# Programa que checa se o número é par ou impar\n",
        "# Fernando R\n",
        "# 05/09/2024 - versão 0.1\n",
        "\n",
        "# Etapa 1 - entrada de dados\n",
        "dividendo = int(input(('Digite um número inteiro positivo : ')))\n",
        "\n",
        "# Etapa 2 - Processamento de dados\n",
        "divisor = 2\n",
        "quociente = int(dividendo/divisor)\n",
        "\n",
        "# melhorando o código utilizando um operador matemático:\n",
        "resto = dividendo % 2\n",
        "\n",
        "# Etapa 3 - saída de dados\n",
        "if dividendo < 0:\n",
        "  print(\" Erro: você digitou um número negativo ! \")\n",
        "elif resto == 0:\n",
        "  print(' O número é PAR ')\n",
        "elif resto == 1:\n",
        "  print(' O número é IMPAR ')\n",
        "else:\n",
        "  print(' Aconteceu algum erro ')\n",
        "\n",
        "## END - AULA 2"
      ],
      "metadata": {
        "id": "gKbltSCPm5Gy"
      },
      "execution_count": null,
      "outputs": []
    },
    {
      "cell_type": "markdown",
      "source": [
        "Atividade 01 - 05/09/24\n",
        "\n",
        "\n"
      ],
      "metadata": {
        "id": "U3yzCEIXppiV"
      }
    },
    {
      "cell_type": "code",
      "source": [
        "# Classe com funcoes/metodos\n",
        "# quem convertem Celsius para F e vice-versa\n",
        "# Aula - 2\n",
        "# Professor Jobel\n",
        "# 5/9/24 - versão 0.1\n",
        "# Aluno - Fernando Ramos\n",
        "\n",
        "# Cria uma classe Conversor\n",
        "class Conversor:\n",
        "    # Etapa 2 - Processa os dados\n",
        "    # funcao que converte Celsius\n",
        "    # em F\n",
        "    def converteCtoF(temperatura):\n",
        "        F = float(9/5 * temperatura+ 32)\n",
        "        return F\n",
        "\n",
        "    # funcao que converte F em Celsius\n",
        "    def converteFtoC(temperatura):\n",
        "        C = float((temperatura-32)*5/9)\n",
        "        return C\n",
        "\n",
        "cv = Conversor\n",
        "print(\" Digite 1 para converter Celsius para F \")\n",
        "print(\" Digite 2 para converter F para Celsius \")\n",
        "\n",
        "# Usuario informa qual opcao de conversao\n",
        "# Etapa 1 - Entrada de Dados\n",
        "opcao = int(input(\" Digite a opção : \"))\n",
        "temp = float(input(\" Informe a temperatura a ser convertida : \"))\n",
        "\n",
        "# para opcao 1 chama funcao converteCtoF\n",
        "# para opcao 2 chama funcao converteFtoF\n",
        "# imprime o resultado na tela para ambas as funcoes.\n",
        "\n",
        "if opcao == 1:\n",
        "    # Etapa 3 - saída de dados\n",
        "    print(\"CtoF : \"+str(round(cv.converteCtoF(temp))))\n",
        "else:\n",
        "    print(\"FtoC : \"+str(round(cv.converteFtoC(temp))))"
      ],
      "metadata": {
        "id": "yQHrqP0uncVj"
      },
      "execution_count": null,
      "outputs": []
    },
    {
      "cell_type": "markdown",
      "source": [
        "Atividade 01 - Exercicio 4 e 5"
      ],
      "metadata": {
        "id": "nwJZImrlnzmC"
      }
    },
    {
      "cell_type": "code",
      "source": [
        "# Classe com funcoes/metodos\n",
        "# implementa uma classe com\n",
        "# conversor de moeda em capacidade de abastecimento\n",
        "# e rodagem em km\n",
        "# Aula - 2\n",
        "# Professor Jobel\n",
        "# 5/9/24 - versão 0.1\n",
        "# Aluno - Fernando Ramos\n",
        "\n",
        "class EcoCar:\n",
        "    # Etapa 1 - processamento de dados\n",
        "    def kmPorLitro(valor):\n",
        "        litros = valor / 5\n",
        "        km = litros * 20\n",
        "        print(f\"Você pode comprar {litros} de combustivel e rodar {km} km\")\n",
        "\n",
        "e = EcoCar\n",
        "\n",
        "# Etapa 2 - entrada de dados\n",
        "l = int(input(\" Entre com o valor para abastecer : \"))\n",
        "\n",
        "# Etapa 3 - saída de dados\n",
        "e.kmPorLitro(l)"
      ],
      "metadata": {
        "colab": {
          "base_uri": "https://localhost:8080/"
        },
        "id": "-HNo0MzKn8NJ",
        "outputId": "51805666-8965-4344-da56-e37654fbd403"
      },
      "execution_count": null,
      "outputs": [
        {
          "output_type": "stream",
          "name": "stdout",
          "text": [
            " Entre com o valor para abastecer : 1000\n",
            "Você pode comprar 200.0 de combustivel e rodar 4000.0 km\n"
          ]
        }
      ]
    }
  ]
}